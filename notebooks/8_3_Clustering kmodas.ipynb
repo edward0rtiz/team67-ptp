{
 "cells": [
  {
   "cell_type": "code",
   "execution_count": 2,
   "metadata": {},
   "outputs": [],
   "source": [
    "import warnings\n",
    "warnings.filterwarnings('ignore')\n",
    "\n",
    "# Importing all required packages\n",
    "import numpy as np\n",
    "import pandas as pd\n",
    "\n",
    "# Data viz lib\n",
    "import matplotlib.pyplot as plt\n",
    "import seaborn as sns\n",
    "%matplotlib inline\n",
    "from matplotlib.pyplot import xticks"
   ]
  },
  {
   "cell_type": "code",
   "execution_count": 2,
   "metadata": {
    "scrolled": true
   },
   "outputs": [
    {
     "name": "stderr",
     "output_type": "stream",
     "text": [
      "<string>:2: DtypeWarning: Columns (12) have mixed types.Specify dtype option on import or set low_memory=False.\n"
     ]
    },
    {
     "name": "stdout",
     "output_type": "stream",
     "text": [
      "Wall time: 3min 41s\n"
     ]
    }
   ],
   "source": [
    "%%time\n",
    "df=pd.read_csv(\"bdfn.csv\")"
   ]
  },
  {
   "cell_type": "code",
   "execution_count": 4,
   "metadata": {
    "scrolled": true
   },
   "outputs": [
    {
     "name": "stdout",
     "output_type": "stream",
     "text": [
      "<class 'pandas.core.frame.DataFrame'>\n",
      "RangeIndex: 11000241 entries, 0 to 11000240\n",
      "Data columns (total 29 columns):\n",
      " #   Column                           Dtype  \n",
      "---  ------                           -----  \n",
      " 0   transaction_user_agent           object \n",
      " 1   transaction_id                   object \n",
      " 2   transaction_description          object \n",
      " 3   transaction_payer_id             object \n",
      " 4   transaction_processing_currency  object \n",
      " 5   transaction_processing_date_     object \n",
      " 6   transaction_processing_hour      int64  \n",
      " 7   transaction_processing_amount    object \n",
      " 8   transaction_card_issuer_name     object \n",
      " 9   transaction_card_type            object \n",
      " 10  transaction_card_installments    float64\n",
      " 11  transaction_response_code        object \n",
      " 12  reason_code_iso                  object \n",
      " 13  reason_description               object \n",
      " 14  reason_clasiffication            object \n",
      " 15  paymentmethod_name               object \n",
      " 16  paymentmethod_franchise          object \n",
      " 17  transaction_user_agent.1         object \n",
      " 18  transaction_payer_id.1           object \n",
      " 19  transaction_payer_document_type  object \n",
      " 20  ip_location_region_name          object \n",
      " 21  ip_location_city                 object \n",
      " 22  card_class                       object \n",
      " 23  merchant_id                      object \n",
      " 24  merchant_address_city            object \n",
      " 25  merchant_created                 object \n",
      " 26  merchant_classification          object \n",
      " 27  isic_division_name               object \n",
      " 28  isic_section_name                object \n",
      "dtypes: float64(1), int64(1), object(27)\n",
      "memory usage: 2.4+ GB\n"
     ]
    }
   ],
   "source": [
    "df.info()"
   ]
  },
  {
   "cell_type": "code",
   "execution_count": 5,
   "metadata": {},
   "outputs": [],
   "source": [
    "pd.options.display.max_columns = None"
   ]
  },
  {
   "cell_type": "code",
   "execution_count": 6,
   "metadata": {
    "scrolled": true
   },
   "outputs": [
    {
     "data": {
      "text/html": [
       "<div>\n",
       "<style scoped>\n",
       "    .dataframe tbody tr th:only-of-type {\n",
       "        vertical-align: middle;\n",
       "    }\n",
       "\n",
       "    .dataframe tbody tr th {\n",
       "        vertical-align: top;\n",
       "    }\n",
       "\n",
       "    .dataframe thead th {\n",
       "        text-align: right;\n",
       "    }\n",
       "</style>\n",
       "<table border=\"1\" class=\"dataframe\">\n",
       "  <thead>\n",
       "    <tr style=\"text-align: right;\">\n",
       "      <th></th>\n",
       "      <th>transaction_user_agent</th>\n",
       "      <th>transaction_id</th>\n",
       "      <th>transaction_description</th>\n",
       "      <th>transaction_payer_id</th>\n",
       "      <th>transaction_processing_currency</th>\n",
       "      <th>transaction_processing_date_</th>\n",
       "      <th>transaction_processing_hour</th>\n",
       "      <th>transaction_processing_amount</th>\n",
       "      <th>transaction_card_issuer_name</th>\n",
       "      <th>transaction_card_type</th>\n",
       "      <th>transaction_card_installments</th>\n",
       "      <th>transaction_response_code</th>\n",
       "      <th>reason_code_iso</th>\n",
       "      <th>reason_description</th>\n",
       "      <th>reason_clasiffication</th>\n",
       "      <th>paymentmethod_name</th>\n",
       "      <th>paymentmethod_franchise</th>\n",
       "      <th>transaction_user_agent.1</th>\n",
       "      <th>transaction_payer_id.1</th>\n",
       "      <th>transaction_payer_document_type</th>\n",
       "      <th>ip_location_region_name</th>\n",
       "      <th>ip_location_city</th>\n",
       "      <th>card_class</th>\n",
       "      <th>merchant_id</th>\n",
       "      <th>merchant_address_city</th>\n",
       "      <th>merchant_created</th>\n",
       "      <th>merchant_classification</th>\n",
       "      <th>isic_division_name</th>\n",
       "      <th>isic_section_name</th>\n",
       "    </tr>\n",
       "  </thead>\n",
       "  <tbody>\n",
       "    <tr>\n",
       "      <th>0</th>\n",
       "      <td>Mozilla/5.0 (Linux; Android 8.0.0; SAMSUNG SM-...</td>\n",
       "      <td>COA1484714239</td>\n",
       "      <td>Pago en micrositio</td>\n",
       "      <td>H:+$GE846G,*OXNU+6(N/$&lt;,J[PV(N.7YE&amp;0NQK=^L_</td>\n",
       "      <td>COP</td>\n",
       "      <td>09/03/2020</td>\n",
       "      <td>19</td>\n",
       "      <td>130000,00</td>\n",
       "      <td>NaN</td>\n",
       "      <td>C</td>\n",
       "      <td>1.0</td>\n",
       "      <td>REJECTED</td>\n",
       "      <td>BN</td>\n",
       "      <td>Bin De La Tarjeta No Es Soportado Por Politica...</td>\n",
       "      <td>Datos de control</td>\n",
       "      <td>MasterCard</td>\n",
       "      <td>MASTERCARD</td>\n",
       "      <td>Mozilla/5.0 (Linux; Android 8.0.0; SAMSUNG SM-...</td>\n",
       "      <td>H:+$GE846G,*OXNU+6(N/$&lt;,J[PV(N.7YE&amp;0NQK=^L_</td>\n",
       "      <td>PPN</td>\n",
       "      <td>Antioquia</td>\n",
       "      <td>Medellin</td>\n",
       "      <td>NaN</td>\n",
       "      <td>CO0000001432</td>\n",
       "      <td>Cali</td>\n",
       "      <td>13/12/2018</td>\n",
       "      <td>C</td>\n",
       "      <td>Agencias de viajes y operadores turísticos</td>\n",
       "      <td>ACTIVIDADES DE SERVICIOS ADMINISTRATIVOS Y DE ...</td>\n",
       "    </tr>\n",
       "    <tr>\n",
       "      <th>1</th>\n",
       "      <td>Mozilla/5.0 (Windows NT 6.3; Win64; x64) Apple...</td>\n",
       "      <td>COA1489747141</td>\n",
       "      <td>Pago EPS</td>\n",
       "      <td>BONZ?B*YC&amp;W&gt;6\\O'%H-:BH3RYO&lt;8.@6;:V7&lt;&gt;23$_-I</td>\n",
       "      <td>COP</td>\n",
       "      <td>01/07/2020</td>\n",
       "      <td>14</td>\n",
       "      <td>100917,00</td>\n",
       "      <td>Bancolombia</td>\n",
       "      <td>D</td>\n",
       "      <td>NaN</td>\n",
       "      <td>APPROVED</td>\n",
       "      <td>00</td>\n",
       "      <td>Aprobada</td>\n",
       "      <td>Red/Banco</td>\n",
       "      <td>PSE</td>\n",
       "      <td>NaN</td>\n",
       "      <td>Mozilla/5.0 (Windows NT 6.3; Win64; x64) Apple...</td>\n",
       "      <td>BONZ?B*YC&amp;W&gt;6\\O'%H-:BH3RYO&lt;8.@6;:V7&lt;&gt;23$_-I</td>\n",
       "      <td>CC</td>\n",
       "      <td>Bogota D.C.</td>\n",
       "      <td>Bogota</td>\n",
       "      <td>NaN</td>\n",
       "      <td>CO0000000558</td>\n",
       "      <td>Medellin</td>\n",
       "      <td>06/12/2011</td>\n",
       "      <td>A+</td>\n",
       "      <td>Seguros y fondos de pensiones</td>\n",
       "      <td>ACTIVIDADES FINANCIERAS Y DE SEGUROS</td>\n",
       "    </tr>\n",
       "    <tr>\n",
       "      <th>2</th>\n",
       "      <td>Mozilla/5.0 (Windows NT 10.0; Win64; x64) Appl...</td>\n",
       "      <td>COA1490877708</td>\n",
       "      <td>Pago EPS</td>\n",
       "      <td>LL69/L7Z,Y&gt;?*&gt;;4[(7#-0)6RQ?U&lt;S[1JZ\\K9P/F:M1</td>\n",
       "      <td>COP</td>\n",
       "      <td>18/07/2020</td>\n",
       "      <td>16</td>\n",
       "      <td>92711,00</td>\n",
       "      <td>Banco Davivienda</td>\n",
       "      <td>D</td>\n",
       "      <td>NaN</td>\n",
       "      <td>APPROVED</td>\n",
       "      <td>00</td>\n",
       "      <td>Aprobada</td>\n",
       "      <td>Red/Banco</td>\n",
       "      <td>PSE</td>\n",
       "      <td>NaN</td>\n",
       "      <td>Mozilla/5.0 (Windows NT 10.0; Win64; x64) Appl...</td>\n",
       "      <td>LL69/L7Z,Y&gt;?*&gt;;4[(7#-0)6RQ?U&lt;S[1JZ\\K9P/F:M1</td>\n",
       "      <td>CC</td>\n",
       "      <td>Bogota D.C.</td>\n",
       "      <td>Bogota</td>\n",
       "      <td>NaN</td>\n",
       "      <td>CO0000000558</td>\n",
       "      <td>Medellin</td>\n",
       "      <td>06/12/2011</td>\n",
       "      <td>A+</td>\n",
       "      <td>Seguros y fondos de pensiones</td>\n",
       "      <td>ACTIVIDADES FINANCIERAS Y DE SEGUROS</td>\n",
       "    </tr>\n",
       "    <tr>\n",
       "      <th>3</th>\n",
       "      <td>Mozilla/5.0 (Linux; Android 10; SAMSUNG SM-G96...</td>\n",
       "      <td>COA1487780107</td>\n",
       "      <td>EXPERIENCIA LA CONQUISTA TOUR | LA CONQUISTA T...</td>\n",
       "      <td>H20N3T&lt;!K&amp;8C!JYD6#G4.B7T@BYF_G7#&amp;GU$,+HT%-2</td>\n",
       "      <td>COP</td>\n",
       "      <td>23/05/2020</td>\n",
       "      <td>17</td>\n",
       "      <td>100100,00</td>\n",
       "      <td>NaN</td>\n",
       "      <td>C</td>\n",
       "      <td>1.0</td>\n",
       "      <td>REJECTED</td>\n",
       "      <td>BN</td>\n",
       "      <td>Bin De La Tarjeta No Es Soportado Por Politica...</td>\n",
       "      <td>Datos de control</td>\n",
       "      <td>MasterCard</td>\n",
       "      <td>MASTERCARD</td>\n",
       "      <td>Mozilla/5.0 (Linux; Android 10; SAMSUNG SM-G96...</td>\n",
       "      <td>H20N3T&lt;!K&amp;8C!JYD6#G4.B7T@BYF_G7#&amp;GU$,+HT%-2</td>\n",
       "      <td>CC</td>\n",
       "      <td>Redbridge</td>\n",
       "      <td>Ilford</td>\n",
       "      <td>NaN</td>\n",
       "      <td>CO0000001038</td>\n",
       "      <td>Medellin</td>\n",
       "      <td>04/10/2016</td>\n",
       "      <td>B+</td>\n",
       "      <td>Agencias de viajes y operadores turísticos</td>\n",
       "      <td>ACTIVIDADES DE SERVICIOS ADMINISTRATIVOS Y DE ...</td>\n",
       "    </tr>\n",
       "    <tr>\n",
       "      <th>4</th>\n",
       "      <td>Mozilla/5.0 (Macintosh; Intel Mac OS X 10_14_6...</td>\n",
       "      <td>COA1488960358</td>\n",
       "      <td>Pago EPS</td>\n",
       "      <td>I=J$7]&gt;=J96V\"T6I[XI+YR&gt;SULH/=_HUXZ52Z&gt;G/15\"</td>\n",
       "      <td>COP</td>\n",
       "      <td>17/06/2020</td>\n",
       "      <td>14</td>\n",
       "      <td>92711,00</td>\n",
       "      <td>Bancolombia</td>\n",
       "      <td>D</td>\n",
       "      <td>NaN</td>\n",
       "      <td>APPROVED</td>\n",
       "      <td>00</td>\n",
       "      <td>Aprobada</td>\n",
       "      <td>Red/Banco</td>\n",
       "      <td>PSE</td>\n",
       "      <td>NaN</td>\n",
       "      <td>Mozilla/5.0 (Macintosh; Intel Mac OS X 10_14_6...</td>\n",
       "      <td>I=J$7]&gt;=J96V\"T6I[XI+YR&gt;SULH/=_HUXZ52Z&gt;G/15\"</td>\n",
       "      <td>CC</td>\n",
       "      <td>Bogota D.C.</td>\n",
       "      <td>Bogota</td>\n",
       "      <td>NaN</td>\n",
       "      <td>CO0000000558</td>\n",
       "      <td>Medellin</td>\n",
       "      <td>06/12/2011</td>\n",
       "      <td>A+</td>\n",
       "      <td>Seguros y fondos de pensiones</td>\n",
       "      <td>ACTIVIDADES FINANCIERAS Y DE SEGUROS</td>\n",
       "    </tr>\n",
       "    <tr>\n",
       "      <th>5</th>\n",
       "      <td>Mozilla/5.0 (Macintosh; Intel Mac OS X 10_15) ...</td>\n",
       "      <td>COA1481628361</td>\n",
       "      <td>NORTE | J BALVIN ARCOIRIS TOUR, NORTE | J BALV...</td>\n",
       "      <td>BSHR'89HVOD'VH93;##U2D]&lt;Q?8I#C&lt;5'2K7-'Q&amp;(^C</td>\n",
       "      <td>COP</td>\n",
       "      <td>02/01/2020</td>\n",
       "      <td>21</td>\n",
       "      <td>136000,00</td>\n",
       "      <td>Viseca Card Services, S.A.</td>\n",
       "      <td>C</td>\n",
       "      <td>1.0</td>\n",
       "      <td>REJECTED</td>\n",
       "      <td>BN</td>\n",
       "      <td>Bin De La Tarjeta No Es Soportado Por Politica...</td>\n",
       "      <td>Datos de control</td>\n",
       "      <td>MasterCard</td>\n",
       "      <td>MASTERCARD</td>\n",
       "      <td>Mozilla/5.0 (Macintosh; Intel Mac OS X 10_15) ...</td>\n",
       "      <td>BSHR'89HVOD'VH93;##U2D]&lt;Q?8I#C&lt;5'2K7-'Q&amp;(^C</td>\n",
       "      <td>PPN</td>\n",
       "      <td>Antioquia</td>\n",
       "      <td>Medellin</td>\n",
       "      <td>WORLD CARD</td>\n",
       "      <td>CO0000001038</td>\n",
       "      <td>Medellin</td>\n",
       "      <td>04/10/2016</td>\n",
       "      <td>B+</td>\n",
       "      <td>Agencias de viajes y operadores turísticos</td>\n",
       "      <td>ACTIVIDADES DE SERVICIOS ADMINISTRATIVOS Y DE ...</td>\n",
       "    </tr>\n",
       "    <tr>\n",
       "      <th>6</th>\n",
       "      <td>0</td>\n",
       "      <td>COA1481671425</td>\n",
       "      <td>Vuelos - 52 - 2020-01-15(VGZ a CLO) - GVAOXB</td>\n",
       "      <td>I&lt;CQ+[[U_&amp;PMK6?6,HA%B&amp;0:Y&lt;Q(WF37V+*B1M+#].\"</td>\n",
       "      <td>COP</td>\n",
       "      <td>04/01/2020</td>\n",
       "      <td>9</td>\n",
       "      <td>534750,00</td>\n",
       "      <td>Banco De Bogota</td>\n",
       "      <td>D</td>\n",
       "      <td>NaN</td>\n",
       "      <td>APPROVED</td>\n",
       "      <td>00</td>\n",
       "      <td>Aprobada</td>\n",
       "      <td>Red/Banco</td>\n",
       "      <td>PSE</td>\n",
       "      <td>NaN</td>\n",
       "      <td>0</td>\n",
       "      <td>I&lt;CQ+[[U_&amp;PMK6?6,HA%B&amp;0:Y&lt;Q(WF37V+*B1M+#].\"</td>\n",
       "      <td>CC</td>\n",
       "      <td>Departamento Del Cauca</td>\n",
       "      <td>Popayan</td>\n",
       "      <td>NaN</td>\n",
       "      <td>CO0000000046</td>\n",
       "      <td>Bogota</td>\n",
       "      <td>27/07/2004</td>\n",
       "      <td>A</td>\n",
       "      <td>Agencias de viajes y operadores turísticos</td>\n",
       "      <td>ACTIVIDADES DE SERVICIOS ADMINISTRATIVOS Y DE ...</td>\n",
       "    </tr>\n",
       "    <tr>\n",
       "      <th>7</th>\n",
       "      <td>Mozilla/5.0 (Linux; Android 8.1.0; Moto G (5))...</td>\n",
       "      <td>COA1492359355</td>\n",
       "      <td>PAGO LOTERIA LOTTIRED</td>\n",
       "      <td>LH.5GLJ,RI:&amp;51)CO?'@[HP;WLN?!6BOUMR\\'\"\"U.J8</td>\n",
       "      <td>COP</td>\n",
       "      <td>14/08/2020</td>\n",
       "      <td>17</td>\n",
       "      <td>2000,00</td>\n",
       "      <td>Scotiabank Colpatria</td>\n",
       "      <td>D</td>\n",
       "      <td>NaN</td>\n",
       "      <td>APPROVED</td>\n",
       "      <td>00</td>\n",
       "      <td>Aprobada</td>\n",
       "      <td>Red/Banco</td>\n",
       "      <td>PSE</td>\n",
       "      <td>NaN</td>\n",
       "      <td>Mozilla/5.0 (Linux; Android 8.1.0; Moto G (5))...</td>\n",
       "      <td>LH.5GLJ,RI:&amp;51)CO?'@[HP;WLN?!6BOUMR\\'\"\"U.J8</td>\n",
       "      <td>CC</td>\n",
       "      <td>Antioquia</td>\n",
       "      <td>Medellin</td>\n",
       "      <td>NaN</td>\n",
       "      <td>CO0000000349</td>\n",
       "      <td>Medellin</td>\n",
       "      <td>05/05/2009</td>\n",
       "      <td>A</td>\n",
       "      <td>Actividades de asistencia social sin alojamiento</td>\n",
       "      <td>ACTIVIDADES DE ATENCIÓN DE LA SALUD HUMANA Y D...</td>\n",
       "    </tr>\n",
       "    <tr>\n",
       "      <th>8</th>\n",
       "      <td>Mozilla/5.0 (Macintosh; Intel Mac OS X 10_11_6...</td>\n",
       "      <td>COA1488356179</td>\n",
       "      <td>98102161572</td>\n",
       "      <td>EFFU\\PNC(K5F4/XWY;\\PX)BKQT!^,U*W$1-XOM@R):[</td>\n",
       "      <td>COP</td>\n",
       "      <td>04/06/2020</td>\n",
       "      <td>15</td>\n",
       "      <td>442882,00</td>\n",
       "      <td>Bbva Colombia S.A</td>\n",
       "      <td>C</td>\n",
       "      <td>2.0</td>\n",
       "      <td>REJECTED</td>\n",
       "      <td>BN</td>\n",
       "      <td>Bin De La Tarjeta No Es Soportado Por Politica...</td>\n",
       "      <td>Datos de control</td>\n",
       "      <td>MasterCard</td>\n",
       "      <td>MASTERCARD</td>\n",
       "      <td>Mozilla/5.0 (Macintosh; Intel Mac OS X 10_11_6...</td>\n",
       "      <td>EFFU\\PNC(K5F4/XWY;\\PX)BKQT!^,U*W$1-XOM@R):[</td>\n",
       "      <td>CC</td>\n",
       "      <td>Milan</td>\n",
       "      <td>Milan</td>\n",
       "      <td>BLACK CARD</td>\n",
       "      <td>CO0000000132</td>\n",
       "      <td>Bogota</td>\n",
       "      <td>16/05/2007</td>\n",
       "      <td>C</td>\n",
       "      <td>Agencias de viajes y operadores turísticos</td>\n",
       "      <td>ACTIVIDADES DE SERVICIOS ADMINISTRATIVOS Y DE ...</td>\n",
       "    </tr>\n",
       "    <tr>\n",
       "      <th>9</th>\n",
       "      <td>Mozilla/5.0 (Windows NT 10.0; Win64; x64) Appl...</td>\n",
       "      <td>COA1491203651</td>\n",
       "      <td>EPS CUOTA MODERADORA Y COPAGO RDS</td>\n",
       "      <td>I-7B!6V=XNR,$1ZPR`Z]B+P[+EW(]X0Y;[IM7U&amp;B9RK</td>\n",
       "      <td>COP</td>\n",
       "      <td>25/07/2020</td>\n",
       "      <td>11</td>\n",
       "      <td>3400,00</td>\n",
       "      <td>Banco Falabella</td>\n",
       "      <td>D</td>\n",
       "      <td>NaN</td>\n",
       "      <td>APPROVED</td>\n",
       "      <td>00</td>\n",
       "      <td>Aprobada</td>\n",
       "      <td>Red/Banco</td>\n",
       "      <td>PSE</td>\n",
       "      <td>NaN</td>\n",
       "      <td>Mozilla/5.0 (Windows NT 10.0; Win64; x64) Appl...</td>\n",
       "      <td>I-7B!6V=XNR,$1ZPR`Z]B+P[+EW(]X0Y;[IM7U&amp;B9RK</td>\n",
       "      <td>CC</td>\n",
       "      <td>Bogota D.C.</td>\n",
       "      <td>Bogota</td>\n",
       "      <td>NaN</td>\n",
       "      <td>CO0000000558</td>\n",
       "      <td>Medellin</td>\n",
       "      <td>06/12/2011</td>\n",
       "      <td>A+</td>\n",
       "      <td>Seguros y fondos de pensiones</td>\n",
       "      <td>ACTIVIDADES FINANCIERAS Y DE SEGUROS</td>\n",
       "    </tr>\n",
       "  </tbody>\n",
       "</table>\n",
       "</div>"
      ],
      "text/plain": [
       "                              transaction_user_agent transaction_id  \\\n",
       "0  Mozilla/5.0 (Linux; Android 8.0.0; SAMSUNG SM-...  COA1484714239   \n",
       "1  Mozilla/5.0 (Windows NT 6.3; Win64; x64) Apple...  COA1489747141   \n",
       "2  Mozilla/5.0 (Windows NT 10.0; Win64; x64) Appl...  COA1490877708   \n",
       "3  Mozilla/5.0 (Linux; Android 10; SAMSUNG SM-G96...  COA1487780107   \n",
       "4  Mozilla/5.0 (Macintosh; Intel Mac OS X 10_14_6...  COA1488960358   \n",
       "5  Mozilla/5.0 (Macintosh; Intel Mac OS X 10_15) ...  COA1481628361   \n",
       "6                                                  0  COA1481671425   \n",
       "7  Mozilla/5.0 (Linux; Android 8.1.0; Moto G (5))...  COA1492359355   \n",
       "8  Mozilla/5.0 (Macintosh; Intel Mac OS X 10_11_6...  COA1488356179   \n",
       "9  Mozilla/5.0 (Windows NT 10.0; Win64; x64) Appl...  COA1491203651   \n",
       "\n",
       "                             transaction_description  \\\n",
       "0                                 Pago en micrositio   \n",
       "1                                           Pago EPS   \n",
       "2                                           Pago EPS   \n",
       "3  EXPERIENCIA LA CONQUISTA TOUR | LA CONQUISTA T...   \n",
       "4                                           Pago EPS   \n",
       "5  NORTE | J BALVIN ARCOIRIS TOUR, NORTE | J BALV...   \n",
       "6       Vuelos - 52 - 2020-01-15(VGZ a CLO) - GVAOXB   \n",
       "7                              PAGO LOTERIA LOTTIRED   \n",
       "8                                        98102161572   \n",
       "9                  EPS CUOTA MODERADORA Y COPAGO RDS   \n",
       "\n",
       "                          transaction_payer_id  \\\n",
       "0  H:+$GE846G,*OXNU+6(N/$<,J[PV(N.7YE&0NQK=^L_   \n",
       "1  BONZ?B*YC&W>6\\O'%H-:BH3RYO<8.@6;:V7<>23$_-I   \n",
       "2  LL69/L7Z,Y>?*>;4[(7#-0)6RQ?U<S[1JZ\\K9P/F:M1   \n",
       "3  H20N3T<!K&8C!JYD6#G4.B7T@BYF_G7#&GU$,+HT%-2   \n",
       "4  I=J$7]>=J96V\"T6I[XI+YR>SULH/=_HUXZ52Z>G/15\"   \n",
       "5  BSHR'89HVOD'VH93;##U2D]<Q?8I#C<5'2K7-'Q&(^C   \n",
       "6  I<CQ+[[U_&PMK6?6,HA%B&0:Y<Q(WF37V+*B1M+#].\"   \n",
       "7  LH.5GLJ,RI:&51)CO?'@[HP;WLN?!6BOUMR\\'\"\"U.J8   \n",
       "8  EFFU\\PNC(K5F4/XWY;\\PX)BKQT!^,U*W$1-XOM@R):[   \n",
       "9  I-7B!6V=XNR,$1ZPR`Z]B+P[+EW(]X0Y;[IM7U&B9RK   \n",
       "\n",
       "  transaction_processing_currency transaction_processing_date_  \\\n",
       "0                             COP                   09/03/2020   \n",
       "1                             COP                   01/07/2020   \n",
       "2                             COP                   18/07/2020   \n",
       "3                             COP                   23/05/2020   \n",
       "4                             COP                   17/06/2020   \n",
       "5                             COP                   02/01/2020   \n",
       "6                             COP                   04/01/2020   \n",
       "7                             COP                   14/08/2020   \n",
       "8                             COP                   04/06/2020   \n",
       "9                             COP                   25/07/2020   \n",
       "\n",
       "   transaction_processing_hour transaction_processing_amount  \\\n",
       "0                           19                     130000,00   \n",
       "1                           14                     100917,00   \n",
       "2                           16                      92711,00   \n",
       "3                           17                     100100,00   \n",
       "4                           14                      92711,00   \n",
       "5                           21                     136000,00   \n",
       "6                            9                     534750,00   \n",
       "7                           17                       2000,00   \n",
       "8                           15                     442882,00   \n",
       "9                           11                       3400,00   \n",
       "\n",
       "  transaction_card_issuer_name transaction_card_type  \\\n",
       "0                          NaN                     C   \n",
       "1                  Bancolombia                     D   \n",
       "2             Banco Davivienda                     D   \n",
       "3                          NaN                     C   \n",
       "4                  Bancolombia                     D   \n",
       "5   Viseca Card Services, S.A.                     C   \n",
       "6              Banco De Bogota                     D   \n",
       "7         Scotiabank Colpatria                     D   \n",
       "8            Bbva Colombia S.A                     C   \n",
       "9              Banco Falabella                     D   \n",
       "\n",
       "   transaction_card_installments transaction_response_code reason_code_iso  \\\n",
       "0                            1.0                  REJECTED              BN   \n",
       "1                            NaN                  APPROVED              00   \n",
       "2                            NaN                  APPROVED              00   \n",
       "3                            1.0                  REJECTED              BN   \n",
       "4                            NaN                  APPROVED              00   \n",
       "5                            1.0                  REJECTED              BN   \n",
       "6                            NaN                  APPROVED              00   \n",
       "7                            NaN                  APPROVED              00   \n",
       "8                            2.0                  REJECTED              BN   \n",
       "9                            NaN                  APPROVED              00   \n",
       "\n",
       "                                  reason_description reason_clasiffication  \\\n",
       "0  Bin De La Tarjeta No Es Soportado Por Politica...      Datos de control   \n",
       "1                                           Aprobada             Red/Banco   \n",
       "2                                           Aprobada             Red/Banco   \n",
       "3  Bin De La Tarjeta No Es Soportado Por Politica...      Datos de control   \n",
       "4                                           Aprobada             Red/Banco   \n",
       "5  Bin De La Tarjeta No Es Soportado Por Politica...      Datos de control   \n",
       "6                                           Aprobada             Red/Banco   \n",
       "7                                           Aprobada             Red/Banco   \n",
       "8  Bin De La Tarjeta No Es Soportado Por Politica...      Datos de control   \n",
       "9                                           Aprobada             Red/Banco   \n",
       "\n",
       "  paymentmethod_name paymentmethod_franchise  \\\n",
       "0         MasterCard              MASTERCARD   \n",
       "1                PSE                     NaN   \n",
       "2                PSE                     NaN   \n",
       "3         MasterCard              MASTERCARD   \n",
       "4                PSE                     NaN   \n",
       "5         MasterCard              MASTERCARD   \n",
       "6                PSE                     NaN   \n",
       "7                PSE                     NaN   \n",
       "8         MasterCard              MASTERCARD   \n",
       "9                PSE                     NaN   \n",
       "\n",
       "                            transaction_user_agent.1  \\\n",
       "0  Mozilla/5.0 (Linux; Android 8.0.0; SAMSUNG SM-...   \n",
       "1  Mozilla/5.0 (Windows NT 6.3; Win64; x64) Apple...   \n",
       "2  Mozilla/5.0 (Windows NT 10.0; Win64; x64) Appl...   \n",
       "3  Mozilla/5.0 (Linux; Android 10; SAMSUNG SM-G96...   \n",
       "4  Mozilla/5.0 (Macintosh; Intel Mac OS X 10_14_6...   \n",
       "5  Mozilla/5.0 (Macintosh; Intel Mac OS X 10_15) ...   \n",
       "6                                                  0   \n",
       "7  Mozilla/5.0 (Linux; Android 8.1.0; Moto G (5))...   \n",
       "8  Mozilla/5.0 (Macintosh; Intel Mac OS X 10_11_6...   \n",
       "9  Mozilla/5.0 (Windows NT 10.0; Win64; x64) Appl...   \n",
       "\n",
       "                        transaction_payer_id.1  \\\n",
       "0  H:+$GE846G,*OXNU+6(N/$<,J[PV(N.7YE&0NQK=^L_   \n",
       "1  BONZ?B*YC&W>6\\O'%H-:BH3RYO<8.@6;:V7<>23$_-I   \n",
       "2  LL69/L7Z,Y>?*>;4[(7#-0)6RQ?U<S[1JZ\\K9P/F:M1   \n",
       "3  H20N3T<!K&8C!JYD6#G4.B7T@BYF_G7#&GU$,+HT%-2   \n",
       "4  I=J$7]>=J96V\"T6I[XI+YR>SULH/=_HUXZ52Z>G/15\"   \n",
       "5  BSHR'89HVOD'VH93;##U2D]<Q?8I#C<5'2K7-'Q&(^C   \n",
       "6  I<CQ+[[U_&PMK6?6,HA%B&0:Y<Q(WF37V+*B1M+#].\"   \n",
       "7  LH.5GLJ,RI:&51)CO?'@[HP;WLN?!6BOUMR\\'\"\"U.J8   \n",
       "8  EFFU\\PNC(K5F4/XWY;\\PX)BKQT!^,U*W$1-XOM@R):[   \n",
       "9  I-7B!6V=XNR,$1ZPR`Z]B+P[+EW(]X0Y;[IM7U&B9RK   \n",
       "\n",
       "  transaction_payer_document_type ip_location_region_name ip_location_city  \\\n",
       "0                             PPN               Antioquia         Medellin   \n",
       "1                              CC             Bogota D.C.           Bogota   \n",
       "2                              CC             Bogota D.C.           Bogota   \n",
       "3                              CC               Redbridge           Ilford   \n",
       "4                              CC             Bogota D.C.           Bogota   \n",
       "5                             PPN               Antioquia         Medellin   \n",
       "6                              CC  Departamento Del Cauca          Popayan   \n",
       "7                              CC               Antioquia         Medellin   \n",
       "8                              CC                   Milan            Milan   \n",
       "9                              CC             Bogota D.C.           Bogota   \n",
       "\n",
       "   card_class   merchant_id merchant_address_city merchant_created  \\\n",
       "0         NaN  CO0000001432                  Cali       13/12/2018   \n",
       "1         NaN  CO0000000558              Medellin       06/12/2011   \n",
       "2         NaN  CO0000000558              Medellin       06/12/2011   \n",
       "3         NaN  CO0000001038              Medellin       04/10/2016   \n",
       "4         NaN  CO0000000558              Medellin       06/12/2011   \n",
       "5  WORLD CARD  CO0000001038              Medellin       04/10/2016   \n",
       "6         NaN  CO0000000046                Bogota       27/07/2004   \n",
       "7         NaN  CO0000000349              Medellin       05/05/2009   \n",
       "8  BLACK CARD  CO0000000132                Bogota       16/05/2007   \n",
       "9         NaN  CO0000000558              Medellin       06/12/2011   \n",
       "\n",
       "  merchant_classification                                isic_division_name  \\\n",
       "0                       C        Agencias de viajes y operadores turísticos   \n",
       "1                      A+                     Seguros y fondos de pensiones   \n",
       "2                      A+                     Seguros y fondos de pensiones   \n",
       "3                      B+        Agencias de viajes y operadores turísticos   \n",
       "4                      A+                     Seguros y fondos de pensiones   \n",
       "5                      B+        Agencias de viajes y operadores turísticos   \n",
       "6                       A        Agencias de viajes y operadores turísticos   \n",
       "7                       A  Actividades de asistencia social sin alojamiento   \n",
       "8                       C        Agencias de viajes y operadores turísticos   \n",
       "9                      A+                     Seguros y fondos de pensiones   \n",
       "\n",
       "                                   isic_section_name  \n",
       "0  ACTIVIDADES DE SERVICIOS ADMINISTRATIVOS Y DE ...  \n",
       "1               ACTIVIDADES FINANCIERAS Y DE SEGUROS  \n",
       "2               ACTIVIDADES FINANCIERAS Y DE SEGUROS  \n",
       "3  ACTIVIDADES DE SERVICIOS ADMINISTRATIVOS Y DE ...  \n",
       "4               ACTIVIDADES FINANCIERAS Y DE SEGUROS  \n",
       "5  ACTIVIDADES DE SERVICIOS ADMINISTRATIVOS Y DE ...  \n",
       "6  ACTIVIDADES DE SERVICIOS ADMINISTRATIVOS Y DE ...  \n",
       "7  ACTIVIDADES DE ATENCIÓN DE LA SALUD HUMANA Y D...  \n",
       "8  ACTIVIDADES DE SERVICIOS ADMINISTRATIVOS Y DE ...  \n",
       "9               ACTIVIDADES FINANCIERAS Y DE SEGUROS  "
      ]
     },
     "execution_count": 6,
     "metadata": {},
     "output_type": "execute_result"
    }
   ],
   "source": [
    "df.head(10)"
   ]
  },
  {
   "cell_type": "code",
   "execution_count": 13,
   "metadata": {},
   "outputs": [
    {
     "data": {
      "text/plain": [
       "Index(['transaction_user_agent', 'transaction_id', 'transaction_description',\n",
       "       'transaction_payer_id', 'transaction_processing_currency',\n",
       "       'transaction_processing_date_', 'transaction_processing_hour',\n",
       "       'transaction_processing_amount', 'transaction_card_issuer_name',\n",
       "       'transaction_card_type', 'transaction_card_installments',\n",
       "       'transaction_response_code', 'reason_code_iso', 'reason_description',\n",
       "       'reason_clasiffication', 'paymentmethod_name',\n",
       "       'paymentmethod_franchise', 'transaction_user_agent.1',\n",
       "       'transaction_payer_id.1', 'transaction_payer_document_type',\n",
       "       'ip_location_region_name', 'ip_location_city', 'card_class',\n",
       "       'merchant_id', 'merchant_address_city', 'merchant_created',\n",
       "       'merchant_classification', 'isic_division_name', 'isic_section_name'],\n",
       "      dtype='object')"
      ]
     },
     "execution_count": 13,
     "metadata": {},
     "output_type": "execute_result"
    }
   ],
   "source": [
    "df.columns"
   ]
  },
  {
   "cell_type": "code",
   "execution_count": 130,
   "metadata": {},
   "outputs": [],
   "source": [
    "col=['merchant_id',\n",
    "     'transaction_processing_hour',\n",
    "     'transaction_card_type',\n",
    "     'transaction_response_code',\n",
    "     'paymentmethod_franchise',\n",
    "     'merchant_classification']"
   ]
  },
  {
   "cell_type": "code",
   "execution_count": 134,
   "metadata": {},
   "outputs": [],
   "source": [
    "ds=df[col]"
   ]
  },
  {
   "cell_type": "code",
   "execution_count": 141,
   "metadata": {
    "scrolled": true
   },
   "outputs": [
    {
     "data": {
      "text/html": [
       "<div>\n",
       "<style scoped>\n",
       "    .dataframe tbody tr th:only-of-type {\n",
       "        vertical-align: middle;\n",
       "    }\n",
       "\n",
       "    .dataframe tbody tr th {\n",
       "        vertical-align: top;\n",
       "    }\n",
       "\n",
       "    .dataframe thead th {\n",
       "        text-align: right;\n",
       "    }\n",
       "</style>\n",
       "<table border=\"1\" class=\"dataframe\">\n",
       "  <thead>\n",
       "    <tr style=\"text-align: right;\">\n",
       "      <th></th>\n",
       "      <th>merchant_id</th>\n",
       "      <th>transaction_card_type</th>\n",
       "      <th>merchant_classification</th>\n",
       "      <th>category_hour</th>\n",
       "      <th>category_paymentmethod_franchise</th>\n",
       "      <th>category_response_code</th>\n",
       "    </tr>\n",
       "  </thead>\n",
       "  <tbody>\n",
       "    <tr>\n",
       "      <th>0</th>\n",
       "      <td>CO0000001432</td>\n",
       "      <td>2</td>\n",
       "      <td>2</td>\n",
       "      <td>4</td>\n",
       "      <td>1</td>\n",
       "      <td>2</td>\n",
       "    </tr>\n",
       "    <tr>\n",
       "      <th>1</th>\n",
       "      <td>CO0000000558</td>\n",
       "      <td>3</td>\n",
       "      <td>6</td>\n",
       "      <td>2</td>\n",
       "      <td>2</td>\n",
       "      <td>4</td>\n",
       "    </tr>\n",
       "    <tr>\n",
       "      <th>2</th>\n",
       "      <td>CO0000000558</td>\n",
       "      <td>3</td>\n",
       "      <td>6</td>\n",
       "      <td>3</td>\n",
       "      <td>2</td>\n",
       "      <td>4</td>\n",
       "    </tr>\n",
       "    <tr>\n",
       "      <th>3</th>\n",
       "      <td>CO0000001038</td>\n",
       "      <td>2</td>\n",
       "      <td>4</td>\n",
       "      <td>3</td>\n",
       "      <td>1</td>\n",
       "      <td>2</td>\n",
       "    </tr>\n",
       "    <tr>\n",
       "      <th>4</th>\n",
       "      <td>CO0000000558</td>\n",
       "      <td>3</td>\n",
       "      <td>6</td>\n",
       "      <td>2</td>\n",
       "      <td>2</td>\n",
       "      <td>4</td>\n",
       "    </tr>\n",
       "    <tr>\n",
       "      <th>5</th>\n",
       "      <td>CO0000001038</td>\n",
       "      <td>2</td>\n",
       "      <td>4</td>\n",
       "      <td>4</td>\n",
       "      <td>1</td>\n",
       "      <td>2</td>\n",
       "    </tr>\n",
       "    <tr>\n",
       "      <th>6</th>\n",
       "      <td>CO0000000046</td>\n",
       "      <td>3</td>\n",
       "      <td>5</td>\n",
       "      <td>1</td>\n",
       "      <td>2</td>\n",
       "      <td>4</td>\n",
       "    </tr>\n",
       "    <tr>\n",
       "      <th>7</th>\n",
       "      <td>CO0000000349</td>\n",
       "      <td>3</td>\n",
       "      <td>5</td>\n",
       "      <td>3</td>\n",
       "      <td>2</td>\n",
       "      <td>4</td>\n",
       "    </tr>\n",
       "    <tr>\n",
       "      <th>8</th>\n",
       "      <td>CO0000000132</td>\n",
       "      <td>2</td>\n",
       "      <td>2</td>\n",
       "      <td>3</td>\n",
       "      <td>1</td>\n",
       "      <td>2</td>\n",
       "    </tr>\n",
       "    <tr>\n",
       "      <th>9</th>\n",
       "      <td>CO0000000558</td>\n",
       "      <td>3</td>\n",
       "      <td>6</td>\n",
       "      <td>2</td>\n",
       "      <td>2</td>\n",
       "      <td>4</td>\n",
       "    </tr>\n",
       "  </tbody>\n",
       "</table>\n",
       "</div>"
      ],
      "text/plain": [
       "    merchant_id  transaction_card_type  merchant_classification category_hour  \\\n",
       "0  CO0000001432                      2                        2             4   \n",
       "1  CO0000000558                      3                        6             2   \n",
       "2  CO0000000558                      3                        6             3   \n",
       "3  CO0000001038                      2                        4             3   \n",
       "4  CO0000000558                      3                        6             2   \n",
       "5  CO0000001038                      2                        4             4   \n",
       "6  CO0000000046                      3                        5             1   \n",
       "7  CO0000000349                      3                        5             3   \n",
       "8  CO0000000132                      2                        2             3   \n",
       "9  CO0000000558                      3                        6             2   \n",
       "\n",
       "   category_paymentmethod_franchise  category_response_code  \n",
       "0                                 1                       2  \n",
       "1                                 2                       4  \n",
       "2                                 2                       4  \n",
       "3                                 1                       2  \n",
       "4                                 2                       4  \n",
       "5                                 1                       2  \n",
       "6                                 2                       4  \n",
       "7                                 2                       4  \n",
       "8                                 1                       2  \n",
       "9                                 2                       4  "
      ]
     },
     "execution_count": 141,
     "metadata": {},
     "output_type": "execute_result"
    }
   ],
   "source": [
    "ds.head(10)"
   ]
  },
  {
   "cell_type": "code",
   "execution_count": 113,
   "metadata": {},
   "outputs": [
    {
     "name": "stdout",
     "output_type": "stream",
     "text": [
      "<class 'pandas.core.frame.DataFrame'>\n",
      "RangeIndex: 11000241 entries, 0 to 11000240\n",
      "Data columns (total 5 columns):\n",
      " #   Column                            Dtype   \n",
      "---  ------                            -----   \n",
      " 0   merchant_id                       object  \n",
      " 1   transaction_card_type             int64   \n",
      " 2   category_hour                     category\n",
      " 3   category_response_code            int64   \n",
      " 4   category_paymentmethod_franchise  int64   \n",
      "dtypes: category(1), int64(3), object(1)\n",
      "memory usage: 346.2+ MB\n"
     ]
    }
   ],
   "source": [
    "ds.info()"
   ]
  },
  {
   "cell_type": "code",
   "execution_count": 135,
   "metadata": {
    "scrolled": true
   },
   "outputs": [
    {
     "name": "stderr",
     "output_type": "stream",
     "text": [
      "C:\\Users\\anemi\\anaconda3\\lib\\site-packages\\ipykernel_launcher.py:2: SettingWithCopyWarning: \n",
      "A value is trying to be set on a copy of a slice from a DataFrame.\n",
      "Try using .loc[row_indexer,col_indexer] = value instead\n",
      "\n",
      "See the caveats in the documentation: https://pandas.pydata.org/pandas-docs/stable/user_guide/indexing.html#returning-a-view-versus-a-copy\n",
      "  \n",
      "C:\\Users\\anemi\\anaconda3\\lib\\site-packages\\ipykernel_launcher.py:4: SettingWithCopyWarning: \n",
      "A value is trying to be set on a copy of a slice from a DataFrame.\n",
      "Try using .loc[row_indexer,col_indexer] = value instead\n",
      "\n",
      "See the caveats in the documentation: https://pandas.pydata.org/pandas-docs/stable/user_guide/indexing.html#returning-a-view-versus-a-copy\n",
      "  after removing the cwd from sys.path.\n",
      "C:\\Users\\anemi\\anaconda3\\lib\\site-packages\\ipykernel_launcher.py:5: SettingWithCopyWarning: \n",
      "A value is trying to be set on a copy of a slice from a DataFrame.\n",
      "Try using .loc[row_indexer,col_indexer] = value instead\n",
      "\n",
      "See the caveats in the documentation: https://pandas.pydata.org/pandas-docs/stable/user_guide/indexing.html#returning-a-view-versus-a-copy\n",
      "  \"\"\"\n",
      "C:\\Users\\anemi\\anaconda3\\lib\\site-packages\\ipykernel_launcher.py:6: SettingWithCopyWarning: \n",
      "A value is trying to be set on a copy of a slice from a DataFrame.\n",
      "Try using .loc[row_indexer,col_indexer] = value instead\n",
      "\n",
      "See the caveats in the documentation: https://pandas.pydata.org/pandas-docs/stable/user_guide/indexing.html#returning-a-view-versus-a-copy\n",
      "  \n",
      "C:\\Users\\anemi\\anaconda3\\lib\\site-packages\\ipykernel_launcher.py:7: SettingWithCopyWarning: \n",
      "A value is trying to be set on a copy of a slice from a DataFrame.\n",
      "Try using .loc[row_indexer,col_indexer] = value instead\n",
      "\n",
      "See the caveats in the documentation: https://pandas.pydata.org/pandas-docs/stable/user_guide/indexing.html#returning-a-view-versus-a-copy\n",
      "  import sys\n",
      "C:\\Users\\anemi\\anaconda3\\lib\\site-packages\\ipykernel_launcher.py:8: SettingWithCopyWarning: \n",
      "A value is trying to be set on a copy of a slice from a DataFrame.\n",
      "Try using .loc[row_indexer,col_indexer] = value instead\n",
      "\n",
      "See the caveats in the documentation: https://pandas.pydata.org/pandas-docs/stable/user_guide/indexing.html#returning-a-view-versus-a-copy\n",
      "  \n",
      "C:\\Users\\anemi\\anaconda3\\lib\\site-packages\\ipykernel_launcher.py:9: SettingWithCopyWarning: \n",
      "A value is trying to be set on a copy of a slice from a DataFrame.\n",
      "Try using .loc[row_indexer,col_indexer] = value instead\n",
      "\n",
      "See the caveats in the documentation: https://pandas.pydata.org/pandas-docs/stable/user_guide/indexing.html#returning-a-view-versus-a-copy\n",
      "  if __name__ == '__main__':\n"
     ]
    }
   ],
   "source": [
    "ds['category_hour'] = pd.qcut(ds['transaction_processing_hour'], 4,\n",
    "                             labels=[1,2,3,4], duplicates=\"drop\")\n",
    "#ds = bank_cust.drop('age',axis = 1)\n",
    "ds['category_paymentmethod_franchise']=ds['paymentmethod_franchise'].replace(np.nan, 0)\n",
    "ds['category_paymentmethod_franchise']=ds['category_paymentmethod_franchise'].replace({0:\"PSE\"} )\n",
    "ds['category_paymentmethod_franchise']=ds['category_paymentmethod_franchise'].replace({'MASTERCARD':1, 'PSE':2, 'VISA':3, 'AMEX':4, 'DINERS':5, 'DISCOVER':6})\n",
    "ds['category_response_code'] = pd.Categorical(ds['transaction_response_code'])\n",
    "ds['category_response_code']=ds['category_response_code'].replace({\"APPROVED\":4,\"PENDING\":3,\"REJECTED\":2,\"FAILED\":1})\n",
    "ds['transaction_card_type']=ds['transaction_card_type'].replace({'C':2, 'D':3, 'A':1, 'R':4})\n",
    "ds['merchant_classification']=ds['merchant_classification'].replace({'C':2, 'A+':6, 'B+':4, 'A':5, 'B':3, 'N':1})"
   ]
  },
  {
   "cell_type": "code",
   "execution_count": 140,
   "metadata": {},
   "outputs": [],
   "source": [
    "ds=ds.drop(['transaction_response_code','transaction_processing_hour','paymentmethod_franchise'], axis=1)"
   ]
  },
  {
   "cell_type": "code",
   "execution_count": 137,
   "metadata": {},
   "outputs": [
    {
     "data": {
      "text/plain": [
       "array(['C', 'A+', 'B+', 'A', 'B', 'N'], dtype=object)"
      ]
     },
     "execution_count": 137,
     "metadata": {},
     "output_type": "execute_result"
    }
   ],
   "source": [
    "ds['merchant_classification'].unique()"
   ]
  },
  {
   "cell_type": "code",
   "execution_count": 48,
   "metadata": {},
   "outputs": [
    {
     "data": {
      "text/plain": [
       "array(['REJECTED', 'APPROVED', 'FAILED', 'PENDING'], dtype=object)"
      ]
     },
     "execution_count": 48,
     "metadata": {},
     "output_type": "execute_result"
    }
   ],
   "source": [
    "df['transaction_response_code'].unique()"
   ]
  },
  {
   "cell_type": "code",
   "execution_count": 107,
   "metadata": {},
   "outputs": [
    {
     "data": {
      "text/plain": [
       "array(['C', 'D', 'A', 'R'], dtype=object)"
      ]
     },
     "execution_count": 107,
     "metadata": {},
     "output_type": "execute_result"
    }
   ],
   "source": [
    "ds['transaction_card_type'].unique()"
   ]
  },
  {
   "cell_type": "code",
   "execution_count": 142,
   "metadata": {},
   "outputs": [],
   "source": [
    "np.random.seed(42)\n",
    "ndata = len(ds)\n",
    "# Seleccione aleatoriamente 0.8n índices entre 1 y n\n",
    "idx_train = np.random.choice(range(ndata),int(0.8*ndata),replace=False)\n",
    "idx_test = np.asarray(list(set(range(ndata)) - set(idx_train)))\n",
    "train = ds.iloc[idx_train] # el conjunto de datos de entrenamiento\n",
    "test = ds.iloc[idx_test] # el conjunto de datos de prueba"
   ]
  },
  {
   "cell_type": "code",
   "execution_count": 125,
   "metadata": {},
   "outputs": [
    {
     "data": {
      "text/plain": [
       "(2200049, 5)"
      ]
     },
     "execution_count": 125,
     "metadata": {},
     "output_type": "execute_result"
    }
   ],
   "source": [
    "train.shape\n",
    "test.shape"
   ]
  },
  {
   "cell_type": "code",
   "execution_count": 143,
   "metadata": {},
   "outputs": [],
   "source": [
    "train.to_csv('cluster.csv', header=True, index=False)"
   ]
  },
  {
   "cell_type": "code",
   "execution_count": 3,
   "metadata": {},
   "outputs": [],
   "source": [
    "da=pd.read_csv(\"cluster.csv\")"
   ]
  },
  {
   "cell_type": "code",
   "execution_count": 4,
   "metadata": {},
   "outputs": [],
   "source": [
    "da.set_index('merchant_id', inplace=True)"
   ]
  },
  {
   "cell_type": "code",
   "execution_count": 145,
   "metadata": {},
   "outputs": [],
   "source": [
    "da.to_feather('cluster.feather')"
   ]
  },
  {
   "cell_type": "code",
   "execution_count": 5,
   "metadata": {},
   "outputs": [],
   "source": [
    "# First we will keep a copy of data\n",
    "da_copy = da.copy()"
   ]
  },
  {
   "cell_type": "code",
   "execution_count": 6,
   "metadata": {
    "scrolled": false
   },
   "outputs": [
    {
     "data": {
      "text/html": [
       "<div>\n",
       "<style scoped>\n",
       "    .dataframe tbody tr th:only-of-type {\n",
       "        vertical-align: middle;\n",
       "    }\n",
       "\n",
       "    .dataframe tbody tr th {\n",
       "        vertical-align: top;\n",
       "    }\n",
       "\n",
       "    .dataframe thead th {\n",
       "        text-align: right;\n",
       "    }\n",
       "</style>\n",
       "<table border=\"1\" class=\"dataframe\">\n",
       "  <thead>\n",
       "    <tr style=\"text-align: right;\">\n",
       "      <th></th>\n",
       "      <th>transaction_card_type</th>\n",
       "      <th>merchant_classification</th>\n",
       "      <th>category_hour</th>\n",
       "      <th>category_paymentmethod_franchise</th>\n",
       "      <th>category_response_code</th>\n",
       "    </tr>\n",
       "    <tr>\n",
       "      <th>merchant_id</th>\n",
       "      <th></th>\n",
       "      <th></th>\n",
       "      <th></th>\n",
       "      <th></th>\n",
       "      <th></th>\n",
       "    </tr>\n",
       "  </thead>\n",
       "  <tbody>\n",
       "    <tr>\n",
       "      <th>CO0000001271</th>\n",
       "      <td>1</td>\n",
       "      <td>1</td>\n",
       "      <td>3</td>\n",
       "      <td>3</td>\n",
       "      <td>1</td>\n",
       "    </tr>\n",
       "    <tr>\n",
       "      <th>CO0000000435</th>\n",
       "      <td>2</td>\n",
       "      <td>1</td>\n",
       "      <td>3</td>\n",
       "      <td>1</td>\n",
       "      <td>1</td>\n",
       "    </tr>\n",
       "    <tr>\n",
       "      <th>CO0000000147</th>\n",
       "      <td>2</td>\n",
       "      <td>3</td>\n",
       "      <td>0</td>\n",
       "      <td>1</td>\n",
       "      <td>3</td>\n",
       "    </tr>\n",
       "    <tr>\n",
       "      <th>CO0000001148</th>\n",
       "      <td>1</td>\n",
       "      <td>5</td>\n",
       "      <td>1</td>\n",
       "      <td>2</td>\n",
       "      <td>1</td>\n",
       "    </tr>\n",
       "    <tr>\n",
       "      <th>CO0000001148</th>\n",
       "      <td>1</td>\n",
       "      <td>5</td>\n",
       "      <td>0</td>\n",
       "      <td>0</td>\n",
       "      <td>1</td>\n",
       "    </tr>\n",
       "  </tbody>\n",
       "</table>\n",
       "</div>"
      ],
      "text/plain": [
       "              transaction_card_type  merchant_classification  category_hour  \\\n",
       "merchant_id                                                                   \n",
       "CO0000001271                      1                        1              3   \n",
       "CO0000000435                      2                        1              3   \n",
       "CO0000000147                      2                        3              0   \n",
       "CO0000001148                      1                        5              1   \n",
       "CO0000001148                      1                        5              0   \n",
       "\n",
       "              category_paymentmethod_franchise  category_response_code  \n",
       "merchant_id                                                             \n",
       "CO0000001271                                 3                       1  \n",
       "CO0000000435                                 1                       1  \n",
       "CO0000000147                                 1                       3  \n",
       "CO0000001148                                 2                       1  \n",
       "CO0000001148                                 0                       1  "
      ]
     },
     "execution_count": 6,
     "metadata": {},
     "output_type": "execute_result"
    }
   ],
   "source": [
    "#Data Preparation\n",
    "from sklearn import preprocessing\n",
    "le = preprocessing.LabelEncoder()\n",
    "da = da.apply(le.fit_transform)\n",
    "da.head()"
   ]
  },
  {
   "cell_type": "code",
   "execution_count": 159,
   "metadata": {},
   "outputs": [
    {
     "name": "stdout",
     "output_type": "stream",
     "text": [
      "Requirement already satisfied: kmodes in c:\\users\\anemi\\anaconda3\\lib\\site-packages (0.10.2)\n",
      "Requirement already satisfied: numpy>=1.10.4 in c:\\users\\anemi\\anaconda3\\lib\\site-packages (from kmodes) (1.18.1)\n",
      "Requirement already satisfied: scipy>=0.13.3 in c:\\users\\anemi\\anaconda3\\lib\\site-packages (from kmodes) (1.4.1)\n",
      "Requirement already satisfied: joblib>=0.11 in c:\\users\\anemi\\anaconda3\\lib\\site-packages (from kmodes) (0.14.1)\n",
      "Requirement already satisfied: scikit-learn>=0.19.0 in c:\\users\\anemi\\anaconda3\\lib\\site-packages (from kmodes) (0.22.1)\n"
     ]
    }
   ],
   "source": [
    "!pip install kmodes"
   ]
  },
  {
   "cell_type": "code",
   "execution_count": 7,
   "metadata": {},
   "outputs": [],
   "source": [
    "# Importing Libraries\n",
    "from kmodes.kmodes import KModes"
   ]
  },
  {
   "cell_type": "code",
   "execution_count": 9,
   "metadata": {},
   "outputs": [
    {
     "name": "stdout",
     "output_type": "stream",
     "text": [
      "Init: initializing centroids\n",
      "Init: initializing clusters\n",
      "Starting iterations...\n",
      "Run 1, iteration: 1/100, moves: 916072, cost: 12965517.0\n",
      "Run 1, iteration: 2/100, moves: 691041, cost: 12339303.0\n",
      "Run 1, iteration: 3/100, moves: 176886, cost: 12339303.0\n",
      "Wall time: 2h 28min 39s\n"
     ]
    }
   ],
   "source": [
    "%%time\n",
    "km_cao = KModes(n_clusters=4, init = \"Cao\", n_init = 1, verbose=1)\n",
    "fitClusters_cao = km_cao.fit_predict(da)"
   ]
  },
  {
   "cell_type": "code",
   "execution_count": 11,
   "metadata": {},
   "outputs": [
    {
     "data": {
      "text/plain": [
       "array([1, 3, 0, ..., 1, 0, 0], dtype=uint16)"
      ]
     },
     "execution_count": 11,
     "metadata": {},
     "output_type": "execute_result"
    }
   ],
   "source": [
    "# Predicted Clusters\n",
    "fitClusters_cao"
   ]
  },
  {
   "cell_type": "code",
   "execution_count": 13,
   "metadata": {},
   "outputs": [],
   "source": [
    "clusterCentroidsDf = pd.DataFrame(km_cao.cluster_centroids_)\n",
    "clusterCentroidsDf.columns = da.columns"
   ]
  },
  {
   "cell_type": "code",
   "execution_count": 14,
   "metadata": {},
   "outputs": [
    {
     "data": {
      "text/html": [
       "<div>\n",
       "<style scoped>\n",
       "    .dataframe tbody tr th:only-of-type {\n",
       "        vertical-align: middle;\n",
       "    }\n",
       "\n",
       "    .dataframe tbody tr th {\n",
       "        vertical-align: top;\n",
       "    }\n",
       "\n",
       "    .dataframe thead th {\n",
       "        text-align: right;\n",
       "    }\n",
       "</style>\n",
       "<table border=\"1\" class=\"dataframe\">\n",
       "  <thead>\n",
       "    <tr style=\"text-align: right;\">\n",
       "      <th></th>\n",
       "      <th>transaction_card_type</th>\n",
       "      <th>merchant_classification</th>\n",
       "      <th>category_hour</th>\n",
       "      <th>category_paymentmethod_franchise</th>\n",
       "      <th>category_response_code</th>\n",
       "    </tr>\n",
       "  </thead>\n",
       "  <tbody>\n",
       "    <tr>\n",
       "      <th>0</th>\n",
       "      <td>2</td>\n",
       "      <td>5</td>\n",
       "      <td>1</td>\n",
       "      <td>1</td>\n",
       "      <td>3</td>\n",
       "    </tr>\n",
       "    <tr>\n",
       "      <th>1</th>\n",
       "      <td>1</td>\n",
       "      <td>5</td>\n",
       "      <td>0</td>\n",
       "      <td>2</td>\n",
       "      <td>1</td>\n",
       "    </tr>\n",
       "    <tr>\n",
       "      <th>2</th>\n",
       "      <td>1</td>\n",
       "      <td>4</td>\n",
       "      <td>3</td>\n",
       "      <td>2</td>\n",
       "      <td>3</td>\n",
       "    </tr>\n",
       "    <tr>\n",
       "      <th>3</th>\n",
       "      <td>2</td>\n",
       "      <td>3</td>\n",
       "      <td>2</td>\n",
       "      <td>1</td>\n",
       "      <td>1</td>\n",
       "    </tr>\n",
       "  </tbody>\n",
       "</table>\n",
       "</div>"
      ],
      "text/plain": [
       "   transaction_card_type  merchant_classification  category_hour  \\\n",
       "0                      2                        5              1   \n",
       "1                      1                        5              0   \n",
       "2                      1                        4              3   \n",
       "3                      2                        3              2   \n",
       "\n",
       "   category_paymentmethod_franchise  category_response_code  \n",
       "0                                 1                       3  \n",
       "1                                 2                       1  \n",
       "2                                 2                       3  \n",
       "3                                 1                       1  "
      ]
     },
     "execution_count": 14,
     "metadata": {},
     "output_type": "execute_result"
    }
   ],
   "source": [
    "# Mode of the clusters\n",
    "clusterCentroidsDf"
   ]
  },
  {
   "cell_type": "code",
   "execution_count": 16,
   "metadata": {},
   "outputs": [
    {
     "name": "stdout",
     "output_type": "stream",
     "text": [
      "Init: initializing centroids\n",
      "Init: initializing clusters\n",
      "Starting iterations...\n",
      "Run 1, iteration: 1/100, moves: 84502, cost: 12424149.0\n",
      "Wall time: 3h 12min 37s\n"
     ]
    }
   ],
   "source": [
    "%%time\n",
    "km_huang = KModes(n_clusters=4, init = \"Huang\", n_init = 1, verbose=1)\n",
    "fitClusters_huang = km_huang.fit_predict(da)"
   ]
  },
  {
   "cell_type": "code",
   "execution_count": 17,
   "metadata": {},
   "outputs": [
    {
     "data": {
      "text/plain": [
       "array([0, 3, 1, ..., 3, 1, 2], dtype=uint16)"
      ]
     },
     "execution_count": 17,
     "metadata": {},
     "output_type": "execute_result"
    }
   ],
   "source": [
    "# Predicted clusters\n",
    "fitClusters_huang"
   ]
  },
  {
   "cell_type": "code",
   "execution_count": 22,
   "metadata": {},
   "outputs": [
    {
     "name": "stdout",
     "output_type": "stream",
     "text": [
      "Init: initializing centroids\n",
      "Init: initializing clusters\n",
      "Starting iterations...\n",
      "Run 1, iteration: 1/100, moves: 0, cost: 19179375.0\n",
      "Init: initializing centroids\n",
      "Init: initializing clusters\n",
      "Starting iterations...\n",
      "Run 1, iteration: 1/100, moves: 762483, cost: 15621051.0\n",
      "Init: initializing centroids\n",
      "Init: initializing clusters\n",
      "Starting iterations...\n",
      "Run 1, iteration: 1/100, moves: 1057462, cost: 14212989.0\n",
      "Run 1, iteration: 2/100, moves: 641440, cost: 13681729.0\n",
      "Run 1, iteration: 3/100, moves: 266093, cost: 13681729.0\n",
      "Init: initializing centroids\n",
      "Init: initializing clusters\n",
      "Starting iterations...\n",
      "Run 1, iteration: 1/100, moves: 916072, cost: 12965517.0\n",
      "Run 1, iteration: 2/100, moves: 691041, cost: 12339303.0\n",
      "Run 1, iteration: 3/100, moves: 176886, cost: 12339303.0\n"
     ]
    }
   ],
   "source": [
    "#Choosing K by comparing Cost against each K\n",
    "cost = []\n",
    "for num_clusters in list(range(1,5)):\n",
    "    kmode = KModes(n_clusters=num_clusters, init = \"Cao\", n_init = 1, verbose=1)\n",
    "    kmode.fit_predict(da)\n",
    "    cost.append(kmode.cost_)"
   ]
  },
  {
   "cell_type": "code",
   "execution_count": 23,
   "metadata": {},
   "outputs": [
    {
     "data": {
      "text/plain": [
       "[<matplotlib.lines.Line2D at 0x10c800cbd08>]"
      ]
     },
     "execution_count": 23,
     "metadata": {},
     "output_type": "execute_result"
    },
    {
     "data": {
      "image/png": "[encoded data removed]",
      "text/plain": [
       "<Figure size 432x288 with 1 Axes>"
      ]
     },
     "metadata": {
      "needs_background": "light"
     },
     "output_type": "display_data"
    }
   ],
   "source": [
    "y = np.array([i for i in range(1,5,1)])\n",
    "plt.plot(y,cost)"
   ]
  },
  {
   "cell_type": "code",
   "execution_count": 26,
   "metadata": {},
   "outputs": [
    {
     "name": "stdout",
     "output_type": "stream",
     "text": [
      "Init: initializing centroids\n",
      "Init: initializing clusters\n",
      "Starting iterations...\n",
      "Run 1, iteration: 1/100, moves: 762483, cost: 15621051.0\n",
      "Wall time: 1h 35min 33s\n"
     ]
    }
   ],
   "source": [
    "%%time\n",
    "km_cao = KModes(n_clusters=2, init = \"Cao\", n_init = 1, verbose=1)\n",
    "fitClusters_cao = km_cao.fit_predict(da)"
   ]
  },
  {
   "cell_type": "code",
   "execution_count": 27,
   "metadata": {},
   "outputs": [
    {
     "data": {
      "text/plain": [
       "array([1, 0, 0, ..., 0, 0, 0], dtype=uint16)"
      ]
     },
     "execution_count": 27,
     "metadata": {},
     "output_type": "execute_result"
    }
   ],
   "source": [
    "fitClusters_cao"
   ]
  },
  {
   "cell_type": "code",
   "execution_count": 31,
   "metadata": {},
   "outputs": [],
   "source": [
    "da = da_copy.reset_index()\n",
    "clustersDf = pd.DataFrame(fitClusters_cao)\n",
    "clustersDf.columns = ['cluster_predicted']\n",
    "combinedDf = pd.concat([da, clustersDf], axis = 1).reset_index()\n",
    "combinedDf = combinedDf.drop(['index'], axis = 1)"
   ]
  },
  {
   "cell_type": "code",
   "execution_count": 33,
   "metadata": {},
   "outputs": [
    {
     "data": {
      "text/html": [
       "<div>\n",
       "<style scoped>\n",
       "    .dataframe tbody tr th:only-of-type {\n",
       "        vertical-align: middle;\n",
       "    }\n",
       "\n",
       "    .dataframe tbody tr th {\n",
       "        vertical-align: top;\n",
       "    }\n",
       "\n",
       "    .dataframe thead th {\n",
       "        text-align: right;\n",
       "    }\n",
       "</style>\n",
       "<table border=\"1\" class=\"dataframe\">\n",
       "  <thead>\n",
       "    <tr style=\"text-align: right;\">\n",
       "      <th></th>\n",
       "      <th>merchant_id</th>\n",
       "      <th>transaction_card_type</th>\n",
       "      <th>merchant_classification</th>\n",
       "      <th>category_hour</th>\n",
       "      <th>category_paymentmethod_franchise</th>\n",
       "      <th>category_response_code</th>\n",
       "      <th>cluster_predicted</th>\n",
       "    </tr>\n",
       "  </thead>\n",
       "  <tbody>\n",
       "    <tr>\n",
       "      <th>0</th>\n",
       "      <td>CO0000001271</td>\n",
       "      <td>2</td>\n",
       "      <td>2</td>\n",
       "      <td>4</td>\n",
       "      <td>4</td>\n",
       "      <td>2</td>\n",
       "      <td>1</td>\n",
       "    </tr>\n",
       "    <tr>\n",
       "      <th>1</th>\n",
       "      <td>CO0000000435</td>\n",
       "      <td>3</td>\n",
       "      <td>2</td>\n",
       "      <td>4</td>\n",
       "      <td>2</td>\n",
       "      <td>2</td>\n",
       "      <td>0</td>\n",
       "    </tr>\n",
       "    <tr>\n",
       "      <th>2</th>\n",
       "      <td>CO0000000147</td>\n",
       "      <td>3</td>\n",
       "      <td>4</td>\n",
       "      <td>1</td>\n",
       "      <td>2</td>\n",
       "      <td>4</td>\n",
       "      <td>0</td>\n",
       "    </tr>\n",
       "    <tr>\n",
       "      <th>3</th>\n",
       "      <td>CO0000001148</td>\n",
       "      <td>2</td>\n",
       "      <td>6</td>\n",
       "      <td>2</td>\n",
       "      <td>3</td>\n",
       "      <td>2</td>\n",
       "      <td>1</td>\n",
       "    </tr>\n",
       "    <tr>\n",
       "      <th>4</th>\n",
       "      <td>CO0000001148</td>\n",
       "      <td>2</td>\n",
       "      <td>6</td>\n",
       "      <td>1</td>\n",
       "      <td>1</td>\n",
       "      <td>2</td>\n",
       "      <td>1</td>\n",
       "    </tr>\n",
       "    <tr>\n",
       "      <th>...</th>\n",
       "      <td>...</td>\n",
       "      <td>...</td>\n",
       "      <td>...</td>\n",
       "      <td>...</td>\n",
       "      <td>...</td>\n",
       "      <td>...</td>\n",
       "      <td>...</td>\n",
       "    </tr>\n",
       "    <tr>\n",
       "      <th>8800187</th>\n",
       "      <td>CO0000000435</td>\n",
       "      <td>3</td>\n",
       "      <td>2</td>\n",
       "      <td>3</td>\n",
       "      <td>2</td>\n",
       "      <td>2</td>\n",
       "      <td>0</td>\n",
       "    </tr>\n",
       "    <tr>\n",
       "      <th>8800188</th>\n",
       "      <td>CO0000001412</td>\n",
       "      <td>3</td>\n",
       "      <td>2</td>\n",
       "      <td>3</td>\n",
       "      <td>2</td>\n",
       "      <td>4</td>\n",
       "      <td>0</td>\n",
       "    </tr>\n",
       "    <tr>\n",
       "      <th>8800189</th>\n",
       "      <td>CO0000001148</td>\n",
       "      <td>2</td>\n",
       "      <td>6</td>\n",
       "      <td>2</td>\n",
       "      <td>1</td>\n",
       "      <td>2</td>\n",
       "      <td>0</td>\n",
       "    </tr>\n",
       "    <tr>\n",
       "      <th>8800190</th>\n",
       "      <td>CO0000000199</td>\n",
       "      <td>3</td>\n",
       "      <td>5</td>\n",
       "      <td>4</td>\n",
       "      <td>2</td>\n",
       "      <td>4</td>\n",
       "      <td>0</td>\n",
       "    </tr>\n",
       "    <tr>\n",
       "      <th>8800191</th>\n",
       "      <td>CO0000000748</td>\n",
       "      <td>3</td>\n",
       "      <td>6</td>\n",
       "      <td>2</td>\n",
       "      <td>2</td>\n",
       "      <td>4</td>\n",
       "      <td>0</td>\n",
       "    </tr>\n",
       "  </tbody>\n",
       "</table>\n",
       "<p>8800192 rows × 7 columns</p>\n",
       "</div>"
      ],
      "text/plain": [
       "          merchant_id  transaction_card_type  merchant_classification  \\\n",
       "0        CO0000001271                      2                        2   \n",
       "1        CO0000000435                      3                        2   \n",
       "2        CO0000000147                      3                        4   \n",
       "3        CO0000001148                      2                        6   \n",
       "4        CO0000001148                      2                        6   \n",
       "...               ...                    ...                      ...   \n",
       "8800187  CO0000000435                      3                        2   \n",
       "8800188  CO0000001412                      3                        2   \n",
       "8800189  CO0000001148                      2                        6   \n",
       "8800190  CO0000000199                      3                        5   \n",
       "8800191  CO0000000748                      3                        6   \n",
       "\n",
       "         category_hour  category_paymentmethod_franchise  \\\n",
       "0                    4                                 4   \n",
       "1                    4                                 2   \n",
       "2                    1                                 2   \n",
       "3                    2                                 3   \n",
       "4                    1                                 1   \n",
       "...                ...                               ...   \n",
       "8800187              3                                 2   \n",
       "8800188              3                                 2   \n",
       "8800189              2                                 1   \n",
       "8800190              4                                 2   \n",
       "8800191              2                                 2   \n",
       "\n",
       "         category_response_code  cluster_predicted  \n",
       "0                             2                  1  \n",
       "1                             2                  0  \n",
       "2                             4                  0  \n",
       "3                             2                  1  \n",
       "4                             2                  1  \n",
       "...                         ...                ...  \n",
       "8800187                       2                  0  \n",
       "8800188                       4                  0  \n",
       "8800189                       2                  0  \n",
       "8800190                       4                  0  \n",
       "8800191                       4                  0  \n",
       "\n",
       "[8800192 rows x 7 columns]"
      ]
     },
     "execution_count": 33,
     "metadata": {},
     "output_type": "execute_result"
    }
   ],
   "source": [
    "combinedDf"
   ]
  },
  {
   "cell_type": "code",
   "execution_count": 34,
   "metadata": {},
   "outputs": [
    {
     "name": "stdout",
     "output_type": "stream",
     "text": [
      "<class 'pandas.core.frame.DataFrame'>\n",
      "Int64Index: 6920565 entries, 1 to 8800191\n",
      "Data columns (total 7 columns):\n",
      " #   Column                            Dtype \n",
      "---  ------                            ----- \n",
      " 0   merchant_id                       object\n",
      " 1   transaction_card_type             int64 \n",
      " 2   merchant_classification           int64 \n",
      " 3   category_hour                     int64 \n",
      " 4   category_paymentmethod_franchise  int64 \n",
      " 5   category_response_code            int64 \n",
      " 6   cluster_predicted                 uint16\n",
      "dtypes: int64(5), object(1), uint16(1)\n",
      "memory usage: 382.8+ MB\n"
     ]
    }
   ],
   "source": [
    "#Cluster Identification\n",
    "cluster_0 = combinedDf[combinedDf['cluster_predicted'] == 0]\n",
    "cluster_1 = combinedDf[combinedDf['cluster_predicted'] == 1]\n",
    "cluster_0.info()"
   ]
  },
  {
   "cell_type": "code",
   "execution_count": 35,
   "metadata": {
    "scrolled": true
   },
   "outputs": [
    {
     "name": "stdout",
     "output_type": "stream",
     "text": [
      "<class 'pandas.core.frame.DataFrame'>\n",
      "Int64Index: 1879627 entries, 0 to 8800185\n",
      "Data columns (total 7 columns):\n",
      " #   Column                            Dtype \n",
      "---  ------                            ----- \n",
      " 0   merchant_id                       object\n",
      " 1   transaction_card_type             int64 \n",
      " 2   merchant_classification           int64 \n",
      " 3   category_hour                     int64 \n",
      " 4   category_paymentmethod_franchise  int64 \n",
      " 5   category_response_code            int64 \n",
      " 6   cluster_predicted                 uint16\n",
      "dtypes: int64(5), object(1), uint16(1)\n",
      "memory usage: 104.0+ MB\n"
     ]
    }
   ],
   "source": [
    "cluster_1.info()"
   ]
  },
  {
   "cell_type": "code",
   "execution_count": 37,
   "metadata": {},
   "outputs": [
    {
     "data": {
      "text/plain": [
       "Index(['merchant_id', 'transaction_card_type', 'merchant_classification',\n",
       "       'category_hour', 'category_paymentmethod_franchise',\n",
       "       'category_response_code', 'cluster_predicted'],\n",
       "      dtype='object')"
      ]
     },
     "execution_count": 37,
     "metadata": {},
     "output_type": "execute_result"
    }
   ],
   "source": [
    "combinedDf.columns"
   ]
  },
  {
   "cell_type": "code",
   "execution_count": 38,
   "metadata": {},
   "outputs": [
    {
     "data": {
      "image/png": "[encoded data removed]",
      "text/plain": [
       "<Figure size 1080x360 with 1 Axes>"
      ]
     },
     "metadata": {
      "needs_background": "light"
     },
     "output_type": "display_data"
    }
   ],
   "source": [
    "plt.subplots(figsize = (15,5))\n",
    "sns.countplot(x=combinedDf['merchant_classification'],order=combinedDf['merchant_classification'].value_counts().index,hue=combinedDf['cluster_predicted'])\n",
    "plt.show()"
   ]
  },
  {
   "cell_type": "code",
   "execution_count": 39,
   "metadata": {},
   "outputs": [
    {
     "data": {
      "image/png": "[encoded data removed]",
      "text/plain": [
       "<Figure size 1080x360 with 1 Axes>"
      ]
     },
     "metadata": {
      "needs_background": "light"
     },
     "output_type": "display_data"
    }
   ],
   "source": [
    "plt.subplots(figsize = (15,5))\n",
    "sns.countplot(x=combinedDf['category_hour'],order=combinedDf['category_hour'].value_counts().index,hue=combinedDf['cluster_predicted'])\n",
    "plt.show()"
   ]
  },
  {
   "cell_type": "code",
   "execution_count": 40,
   "metadata": {},
   "outputs": [
    {
     "data": {
      "image/png": "[encoded data removed]",
      "text/plain": [
       "<Figure size 1080x360 with 1 Axes>"
      ]
     },
     "metadata": {
      "needs_background": "light"
     },
     "output_type": "display_data"
    }
   ],
   "source": [
    "plt.subplots(figsize = (15,5))\n",
    "sns.countplot(x=combinedDf['transaction_card_type'],order=combinedDf['transaction_card_type'].value_counts().index,hue=combinedDf['cluster_predicted'])\n",
    "plt.show()"
   ]
  },
  {
   "cell_type": "code",
   "execution_count": 41,
   "metadata": {},
   "outputs": [
    {
     "data": {
      "image/png": "[encoded data removed]",
      "text/plain": [
       "<Figure size 1080x360 with 1 Axes>"
      ]
     },
     "metadata": {
      "needs_background": "light"
     },
     "output_type": "display_data"
    }
   ],
   "source": [
    "plt.subplots(figsize = (15,5))\n",
    "sns.countplot(x=combinedDf['category_paymentmethod_franchise'],order=combinedDf['category_paymentmethod_franchise'].value_counts().index,hue=combinedDf['cluster_predicted'])\n",
    "plt.show()"
   ]
  },
  {
   "cell_type": "code",
   "execution_count": 42,
   "metadata": {
    "scrolled": true
   },
   "outputs": [
    {
     "data": {
      "image/png": "[encoded data removed]",
      "text/plain": [
       "<Figure size 1080x360 with 1 Axes>"
      ]
     },
     "metadata": {
      "needs_background": "light"
     },
     "output_type": "display_data"
    }
   ],
   "source": [
    "plt.subplots(figsize = (15,5))\n",
    "sns.countplot(x=combinedDf['category_response_code'],order=combinedDf['category_response_code'].value_counts().index,hue=combinedDf['cluster_predicted'])\n",
    "plt.show()"
   ]
  },
  {
   "cell_type": "code",
   "execution_count": 46,
   "metadata": {},
   "outputs": [],
   "source": [
    "db=combinedDf.drop('merchant_id', axis=1)"
   ]
  },
  {
   "cell_type": "code",
   "execution_count": 47,
   "metadata": {},
   "outputs": [],
   "source": [
    "db.to_csv('cluster2.csv', header=True, index=False)\n",
    "db.to_feather('cluster2.feather')"
   ]
  }
 ],
 "metadata": {
  "kernelspec": {
   "display_name": "Python 3",
   "language": "python",
   "name": "python3"
  },
  "language_info": {
   "codemirror_mode": {
    "name": "ipython",
    "version": 3
   },
   "file_extension": ".py",
   "mimetype": "text/x-python",
   "name": "python",
   "nbconvert_exporter": "python",
   "pygments_lexer": "ipython3",
   "version": "3.7.6"
  }
 },
 "nbformat": 4,
 "nbformat_minor": 4
}
